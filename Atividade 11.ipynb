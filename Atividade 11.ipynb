{
 "cells": [
  {
   "cell_type": "code",
   "execution_count": null,
   "id": "188c7e3b",
   "metadata": {},
   "outputs": [],
   "source": [
    "# Faça um programa que verifica a Similaridade J entre duas ou mais pessoas e retorna as respectivas similaridades entre elas.\n",
    "# Exempo de entrada:\n",
    "## 2\n",
    "## FERNANDO BC PI AED2 SO\n",
    "## CAROLINA PI POO REDES\n",
    "# Exemplo de saída:\n",
    "## FERNANDO e CAROLINA (1.0)\n",
    "qtd = int(input())\n",
    "preferencias = []\n",
    "nomes = []\n",
    "saida = []\n",
    "for i in range(qtd):\n",
    "    pref = input()\n",
    "    pref = pref.split()\n",
    "    aux = []\n",
    "    for j in range(len(pref)):\n",
    "        if(j != 0):\n",
    "            aux.append(pref[j])\n",
    "        else:\n",
    "            nomes.append(pref[j])\n",
    "    preferencias.append(aux)\n",
    "\n",
    "def jaccardSimilarity(lista1, lista2):\n",
    "    intersecao = len(set(lista1) & set(lista2))\n",
    "    union = len(set(lista1) | set(lista2))\n",
    "    similaridade = intersecao / union\n",
    "    return similaridade\n",
    "\n",
    "for i in range(qtd):\n",
    "    for j in range(1, qtd):\n",
    "        if j > i:\n",
    "            similaridade = jaccardSimilarity(preferencias[i], preferencias[j])\n",
    "            resultado = nomes[i] + \" \" + nomes[j] + \" \" + str(similaridade)\n",
    "            saida.append(resultado)\n",
    "\n",
    "def ordenar(lista):\n",
    "    for aux in range(len(lista)):\n",
    "        lista[aux] = lista[aux].split()\n",
    "    n = len(lista)\n",
    "    for k in range(n):\n",
    "        for i in range(n-1-k):\n",
    "            if(lista[i][2] < lista[i+1][2]):\n",
    "                lista[i], lista[i+1] = lista[i+1], lista[i]\n",
    "    return lista\n",
    "\n",
    "ordenado = ordenar(saida)\n",
    "\n",
    "for i in range(len(ordenado)):\n",
    "    print(f\"{ordenado[i][0]} e {ordenado[i][1]} ({ordenado[i][2]})\")\n"
   ]
  }
 ],
 "metadata": {
  "kernelspec": {
   "display_name": "Python 3 (ipykernel)",
   "language": "python",
   "name": "python3"
  },
  "language_info": {
   "codemirror_mode": {
    "name": "ipython",
    "version": 3
   },
   "file_extension": ".py",
   "mimetype": "text/x-python",
   "name": "python",
   "nbconvert_exporter": "python",
   "pygments_lexer": "ipython3",
   "version": "3.11.3"
  }
 },
 "nbformat": 4,
 "nbformat_minor": 5
}
