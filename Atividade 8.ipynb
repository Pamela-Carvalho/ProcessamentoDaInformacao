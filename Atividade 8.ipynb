{
 "cells": [
  {
   "cell_type": "code",
   "execution_count": null,
   "id": "d7174bd1",
   "metadata": {},
   "outputs": [],
   "source": [
    "# Calcule a média de todas as notas;\n",
    "# Calcule uma nova média considerando apenas as notas acima da média. Desconsiderar as notas iguais a média;\n",
    "# Imprima a média acima da média.\n",
    "qtd = int(input())\n",
    "notas = []\n",
    "for i in range(1, qtd+1):\n",
    "    nota = float(input())\n",
    "    notas.append(nota)\n",
    "\n",
    "def media(notas: float)->float:\n",
    "    soma = 0\n",
    "    for i in range(0, len(notas)):\n",
    "        soma = soma + notas[i]\n",
    "    media = soma / len(notas)\n",
    "    return media\n",
    "\n",
    "def mediaAcimaMediaGeral(media: float, notas: float)->float:\n",
    "    soma = 0\n",
    "    cont = 0\n",
    "    for i in range(0, len(notas)):\n",
    "        if(notas[i] > media):\n",
    "            soma = soma + notas[i]\n",
    "            cont += 1\n",
    "    media = soma / cont\n",
    "    return media\n",
    "print(mediaAcimaMediaGeral(media(notas), notas))\n"
   ]
  },
  {
   "cell_type": "code",
   "execution_count": null,
   "id": "17d91968",
   "metadata": {},
   "outputs": [],
   "source": []
  }
 ],
 "metadata": {
  "kernelspec": {
   "display_name": "Python 3 (ipykernel)",
   "language": "python",
   "name": "python3"
  },
  "language_info": {
   "codemirror_mode": {
    "name": "ipython",
    "version": 3
   },
   "file_extension": ".py",
   "mimetype": "text/x-python",
   "name": "python",
   "nbconvert_exporter": "python",
   "pygments_lexer": "ipython3",
   "version": "3.11.3"
  }
 },
 "nbformat": 4,
 "nbformat_minor": 5
}
