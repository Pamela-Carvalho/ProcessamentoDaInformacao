{
 "cells": [
  {
   "cell_type": "code",
   "execution_count": null,
   "id": "c117c363",
   "metadata": {},
   "outputs": [],
   "source": [
    "### EXERCÍCIO 1: Refaça o problema \"calcular média e imprimir conceito\" utilizando exclusivamente swich.\n",
    "def media(nota1: float, nota2: float)->float:\n",
    "    media = (nota1 + nota2) / 2\n",
    "    return media\n",
    "\n",
    "media = media(n1, n2)\n",
    "\n",
    "match media:\n",
    "    case 10 | 9:\n",
    "        conceito = \"A\"\n",
    "    case 8 | 7:\n",
    "        conceito = \"B\"\n",
    "    case 6 | 5:\n",
    "        conceito = \"C\"\n",
    "    case 4:\n",
    "        conceito = \"D\"\n",
    "    case 3 | 2 | 1 | 0:\n",
    "        conceito = \"F\"\n",
    "\n",
    "### EXERCÍCIO 2: Faça um programa que recebe quatro notas de trabalho e calcula a média apenas das três maiores notas, descartando a menor nota.\n",
    "def menor(a: float, b: float, c:float, d:float) -> float:\n",
    "    m1=a\n",
    "    m2=c\n",
    "    if m1>b:\n",
    "        m1 = b\n",
    "    if m2>d:\n",
    "        m2 = d\n",
    "    if m1>m2:\n",
    "        return m2\n",
    "    else:\n",
    "        return m1\n",
    "\n",
    "n1 = float(input(\"Informe a nota 1:\"))\n",
    "n2 = float(input(\"Informe a nota 2:\"))\n",
    "n3 = float(input(\"Informe a nota 3:\"))\n",
    "n4 = float(input(\"Informe a nota 5:\"))\n",
    "\n",
    "min = menor(n1, n2, n3, n4)\n",
    "\n",
    "if min == n1:\n",
    "    n1 = 0\n",
    "elif min == n2:\n",
    "    n2 = 0\n",
    "elif min == n3:\n",
    "    n3 = 0\n",
    "else:\n",
    "    n4 = 0\n",
    "\n",
    "def media3(nota1: float, nota2: float, nota3: float, nota4: float)->float:\n",
    "    media = (nota1 + nota2 + nota3 + nota4) / 3\n",
    "    return media\n",
    "\n",
    "print(f\"A média final é {media3(n1, n2, n3, n4)}\")\n"
   ]
  }
 ],
 "metadata": {
  "kernelspec": {
   "display_name": "Python 3 (ipykernel)",
   "language": "python",
   "name": "python3"
  },
  "language_info": {
   "codemirror_mode": {
    "name": "ipython",
    "version": 3
   },
   "file_extension": ".py",
   "mimetype": "text/x-python",
   "name": "python",
   "nbconvert_exporter": "python",
   "pygments_lexer": "ipython3",
   "version": "3.11.3"
  }
 },
 "nbformat": 4,
 "nbformat_minor": 5
}
