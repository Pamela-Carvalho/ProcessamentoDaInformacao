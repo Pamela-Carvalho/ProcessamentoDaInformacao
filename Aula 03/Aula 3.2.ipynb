{
 "cells": [
  {
   "cell_type": "code",
   "execution_count": 12,
   "id": "e1e60dd1-7677-4df5-a5af-8f6b8ee7f297",
   "metadata": {},
   "outputs": [
    {
     "name": "stdin",
     "output_type": "stream",
     "text": [
      "Informe um valor para tabuada: 5\n"
     ]
    },
    {
     "name": "stdout",
     "output_type": "stream",
     "text": [
      "5x1=5\n",
      "5x2=10\n",
      "5x3=15\n",
      "5x4=20\n",
      "5x5=25\n",
      "5x6=30\n",
      "5x7=35\n",
      "5x8=40\n",
      "5x9=45\n",
      "5x10=50\n"
     ]
    }
   ],
   "source": [
    "### EXERCÍCIO 1: Faça um programa que recebe um valor qualquer e retorne a tabuada de 1 à 10.\n",
    "\n",
    "val = int(input(\"Informe um valor para tabuada:\"))\n",
    "aux = 1\n",
    "\n",
    "while aux <= 10:\n",
    "    print(f\"{val}x{aux}={val*aux}\")\n",
    "    aux += 1"
   ]
  },
  {
   "cell_type": "code",
   "execution_count": 15,
   "id": "3bf17fbf-9bfd-4fee-80cc-95eea5e2fdfb",
   "metadata": {},
   "outputs": [
    {
     "name": "stdin",
     "output_type": "stream",
     "text": [
      "Informe a quantidade de avaliações: 6\n",
      "Nota 1: 10\n",
      "Nota 2: 8\n",
      "Nota 3: 6\n",
      "Nota 4: 7\n",
      "Nota 5: 7\n",
      "Nota 6: 10\n"
     ]
    },
    {
     "name": "stdout",
     "output_type": "stream",
     "text": [
      "8.0\n"
     ]
    }
   ],
   "source": [
    "### EXERCÍCIO 2: Faça um programa que recebe a quantidade de provas e, em seguida, recebe as notas de cada prova. Ao finalizar, imprima a média de todas as provas.\n",
    "\n",
    "qtd = int(input(\"Informe a quantidade de avaliações:\"))\n",
    "notas = 0\n",
    "aux = 1\n",
    "\n",
    "while aux <= qtd:\n",
    "    n = float(input(f\"Nota {aux}:\"))\n",
    "    notas = notas + n\n",
    "    aux += 1\n",
    "\n",
    "def media(notas: float, qtdNotas: float)->float:\n",
    "    media = notas / qtdNotas\n",
    "    return media\n",
    "\n",
    "print(media(notas, qtd))"
   ]
  }
 ],
 "metadata": {
  "kernelspec": {
   "display_name": "Python 3 (ipykernel)",
   "language": "python",
   "name": "python3"
  },
  "language_info": {
   "codemirror_mode": {
    "name": "ipython",
    "version": 3
   },
   "file_extension": ".py",
   "mimetype": "text/x-python",
   "name": "python",
   "nbconvert_exporter": "python",
   "pygments_lexer": "ipython3",
   "version": "3.11.5"
  }
 },
 "nbformat": 4,
 "nbformat_minor": 5
}
