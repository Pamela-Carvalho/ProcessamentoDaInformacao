{
 "cells": [
  {
   "cell_type": "code",
   "execution_count": null,
   "id": "62de20dd",
   "metadata": {},
   "outputs": [],
   "source": [
    "### EXERCÍCIO 1: Faça um programa que recebe um valor qualquer e retorne a tabuada de 1 à 10.\n",
    "val = int(input(\"Informe um valor para tabuada:\"))\n",
    "aux = 1\n",
    "\n",
    "while aux <= 10:\n",
    "    print(f\"{val}x{aux}={val*aux}\")\n",
    "    aux += 1\n",
    "\n",
    "### EXERCÍCIO 2: Faça um programa que recebe a quantidade de provas e, em seguida, recebe as notas de cada prova. Ao finalizar, imprima a média de todas as provas.\n",
    "qtd = int(input(\"Informe a quantidade de avaliações:\"))\n",
    "notas = 0\n",
    "aux = 1\n",
    "\n",
    "while aux <= qtd:\n",
    "    n = float(input(f\"Nota {aux}:\"))\n",
    "    notas = notas + n\n",
    "    aux += 1\n",
    "\n",
    "def media(notas: float, qtdNotas: float)->float:\n",
    "    media = notas / qtdNotas\n",
    "    return media\n",
    "\n",
    "print(media(notas, qtd))\n"
   ]
  }
 ],
 "metadata": {
  "kernelspec": {
   "display_name": "Python 3 (ipykernel)",
   "language": "python",
   "name": "python3"
  },
  "language_info": {
   "codemirror_mode": {
    "name": "ipython",
    "version": 3
   },
   "file_extension": ".py",
   "mimetype": "text/x-python",
   "name": "python",
   "nbconvert_exporter": "python",
   "pygments_lexer": "ipython3",
   "version": "3.11.3"
  }
 },
 "nbformat": 4,
 "nbformat_minor": 5
}
