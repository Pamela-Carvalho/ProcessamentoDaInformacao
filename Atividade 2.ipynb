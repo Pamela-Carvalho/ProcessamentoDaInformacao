{
 "cells": [
  {
   "cell_type": "code",
   "execution_count": null,
   "id": "917c70c7",
   "metadata": {},
   "outputs": [],
   "source": [
    "### EXERCÍCIO 1: Crie um método que calcula o maior valor entre 2 números reais\n",
    "def maior2(a: float, b: float)->float:\n",
    "    if a > b:\n",
    "        return a\n",
    "    else:\n",
    "        return b\n",
    "print(f\"O maior número é o {maior2(a, b)}\")\n",
    "\n",
    "### EXERCÍCIO 2: Crie um método que calcula o maior valor entre 3 números reais que utiliza a função anterior\n",
    "def maior3(a: float, b: float, c: float)->float:\n",
    "    aux = maior2(a, b)\n",
    "    aux = maior2(aux, c)\n",
    "    return aux\n",
    "print(f\"O maior número é o {maior3(a, b, c)}\")\n",
    "\n",
    "### EXERCÍCIO 3: O que faz a função abaixo:\n",
    "def f1(a: float, b: float, c:float, d:float) -> float:\n",
    "    m1=a\n",
    "    m2=c\n",
    "    if m1>b:\n",
    "        m1 = b\n",
    "    if m2>d:\n",
    "        m2 = d\n",
    "    if m1>m2:\n",
    "        return m2\n",
    "    else:\n",
    "        return m1\n",
    "\n",
    "#print(f1(2, 4, 3, 1))\n",
    "# a função retorna o menor número dentre os quatro parâmetros\n",
    "\n",
    "\n"
   ]
  }
 ],
 "metadata": {
  "kernelspec": {
   "display_name": "Python 3 (ipykernel)",
   "language": "python",
   "name": "python3"
  },
  "language_info": {
   "codemirror_mode": {
    "name": "ipython",
    "version": 3
   },
   "file_extension": ".py",
   "mimetype": "text/x-python",
   "name": "python",
   "nbconvert_exporter": "python",
   "pygments_lexer": "ipython3",
   "version": "3.11.3"
  }
 },
 "nbformat": 4,
 "nbformat_minor": 5
}
