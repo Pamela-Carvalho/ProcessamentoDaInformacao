{
 "cells": [
  {
   "cell_type": "code",
   "execution_count": 1,
   "id": "f78626e4-ef9e-4e20-a063-fd181a34b321",
   "metadata": {},
   "outputs": [
    {
     "name": "stdin",
     "output_type": "stream",
     "text": [
      "Digite: oi\n"
     ]
    },
    {
     "name": "stdout",
     "output_type": "stream",
     "text": [
      "oi foi digitado\n"
     ]
    }
   ],
   "source": [
    "##QUESTÃO 1\n",
    "teste = input(\"Digite:\")\n",
    "print(f\"{teste} foi digitado\")"
   ]
  },
  {
   "cell_type": "code",
   "execution_count": 11,
   "id": "4d5dbaa0-e302-441e-a944-d7f94f8e82ce",
   "metadata": {},
   "outputs": [
    {
     "name": "stdout",
     "output_type": "stream",
     "text": [
      "1\n"
     ]
    }
   ],
   "source": [
    "##QUESTÃO 2\n",
    "#resto de divisão\n",
    "op1 = 9 % 2\n",
    "print(op1)"
   ]
  },
  {
   "cell_type": "code",
   "execution_count": 5,
   "id": "85215f43-e372-4371-b89e-99b4f899a5b7",
   "metadata": {},
   "outputs": [
    {
     "name": "stdout",
     "output_type": "stream",
     "text": [
      "19\n"
     ]
    }
   ],
   "source": [
    "#primero multiplica e depois soma\n",
    "op2 = 4 + 3 * 5\n",
    "print(op2)"
   ]
  },
  {
   "cell_type": "code",
   "execution_count": 6,
   "id": "ac3581a2-53cb-4215-b4f5-5963aeb30978",
   "metadata": {},
   "outputs": [
    {
     "name": "stdout",
     "output_type": "stream",
     "text": [
      "35\n"
     ]
    }
   ],
   "source": [
    "#primeiro os parenteses e depois a multiplicação\n",
    "op3 = (4 + 3) * 5\n",
    "print(op3)"
   ]
  },
  {
   "cell_type": "code",
   "execution_count": 7,
   "id": "eaf550b3-94f0-405e-857d-f5f122d592a2",
   "metadata": {},
   "outputs": [
    {
     "name": "stdout",
     "output_type": "stream",
     "text": [
      "5.75\n"
     ]
    }
   ],
   "source": [
    "#primeiro divide e depois soma\n",
    "op4 = 5 + 3 / 4\n",
    "print(op4)"
   ]
  },
  {
   "cell_type": "code",
   "execution_count": 8,
   "id": "ca47d269-8fd7-45b3-a15e-a59118093b45",
   "metadata": {},
   "outputs": [
    {
     "name": "stdout",
     "output_type": "stream",
     "text": [
      "-157\n"
     ]
    }
   ],
   "source": [
    "#primeiro expoente, depois multiplicação, depois subtração\n",
    "op5 = 5 - 2 * 3 ** 4\n",
    "print(op5)"
   ]
  },
  {
   "cell_type": "code",
   "execution_count": 18,
   "id": "71cdc337-fdb1-43c8-aca9-956c553598e1",
   "metadata": {},
   "outputs": [
    {
     "name": "stdout",
     "output_type": "stream",
     "text": [
      "7.5\n"
     ]
    }
   ],
   "source": [
    "##QUESTÃO 3\n",
    "#teste = 6 * -----------8\n",
    "#teste = ((((4**3))))\n",
    "#teste = (-(-(-(-5))))\n",
    "\n",
    "print(teste)"
   ]
  },
  {
   "cell_type": "code",
   "execution_count": 19,
   "id": "e587c6bf-cb74-46ef-85f7-5d8225cd4b24",
   "metadata": {},
   "outputs": [],
   "source": [
    "## instruções que dariam erro\n",
    "# 8 = aluno\n",
    "# 4 += 7/2"
   ]
  },
  {
   "cell_type": "code",
   "execution_count": 24,
   "id": "6d658ee1-d9b1-4f69-9514-52e165362e67",
   "metadata": {},
   "outputs": [
    {
     "name": "stdout",
     "output_type": "stream",
     "text": [
      "10\n"
     ]
    }
   ],
   "source": [
    "##QUESTÃO 4\n",
    "def soma(a:float, b:float, c:float, d:float) -> float:\n",
    "    soma = a + b + c + d\n",
    "    return soma\n",
    "\n",
    "print(soma(1, 2, 3, 4))"
   ]
  }
 ],
 "metadata": {
  "kernelspec": {
   "display_name": "Python 3 (ipykernel)",
   "language": "python",
   "name": "python3"
  },
  "language_info": {
   "codemirror_mode": {
    "name": "ipython",
    "version": 3
   },
   "file_extension": ".py",
   "mimetype": "text/x-python",
   "name": "python",
   "nbconvert_exporter": "python",
   "pygments_lexer": "ipython3",
   "version": "3.11.5"
  }
 },
 "nbformat": 4,
 "nbformat_minor": 5
}
