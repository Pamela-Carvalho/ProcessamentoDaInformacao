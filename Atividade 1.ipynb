{
 "cells": [
  {
   "cell_type": "code",
   "execution_count": null,
   "id": "1cd37415",
   "metadata": {},
   "outputs": [],
   "source": [
    "##QUESTÃO 2: Qual seria o resultado da execução das seguintes operações?\n",
    "#resto de divisão\n",
    "op1 = 9 % 2\n",
    "print(op1)\n",
    "#primero multiplica e depois soma\n",
    "op2 = 4 + 3 * 5\n",
    "print(op2)\n",
    "#primeiro os parenteses e depois a multiplicação\n",
    "op3 = (4 + 3) * 5\n",
    "print(op3)\n",
    "#primeiro divide e depois soma\n",
    "op4 = 5 + 3 / 4\n",
    "print(op4)\n",
    "#primeiro expoente, depois multiplicação, depois subtração\n",
    "op5 = 5 - 2 * 3 ** 4\n",
    "print(op5)\n",
    "\n",
    "##QUESTÃO 3: Quais das seguintes instruções dariam erro de sintaxe?\n",
    "# não dariam erro:\n",
    "#teste = 6 * -----------8\n",
    "#teste = ((((4**3))))\n",
    "# teste = (-(-(-(-5))))\n",
    "## instruções que dariam erro:\n",
    "# 8 = aluno\n",
    "# 4 += 7/2\n",
    "\n",
    "##QUESTÃO 4: Crie um método que calcula e retorna a soma de 4 números reais.\n",
    "def soma(a:float, b:float, c:float, d:float) -> float:\n",
    "    soma = a + b + c + d\n",
    "    return soma\n",
    "\n",
    "print(soma(1, 2, 3, 4))\n"
   ]
  }
 ],
 "metadata": {
  "kernelspec": {
   "display_name": "Python 3 (ipykernel)",
   "language": "python",
   "name": "python3"
  },
  "language_info": {
   "codemirror_mode": {
    "name": "ipython",
    "version": 3
   },
   "file_extension": ".py",
   "mimetype": "text/x-python",
   "name": "python",
   "nbconvert_exporter": "python",
   "pygments_lexer": "ipython3",
   "version": "3.11.3"
  }
 },
 "nbformat": 4,
 "nbformat_minor": 5
}
