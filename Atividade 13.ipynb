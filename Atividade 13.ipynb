{
 "cells": [
  {
   "cell_type": "code",
   "execution_count": null,
   "id": "92c33710",
   "metadata": {},
   "outputs": [
    {
     "name": "stdout",
     "output_type": "stream",
     "text": [
      "6\n",
      "2 2 1 5\n"
     ]
    }
   ],
   "source": [
    "# Faça um programa que cria duas matrizes aleatórias e imprima o resultado da multiplicação delas.\n",
    "# Entrada:\n",
    "# O primeiro argumento é o valor inicial do random.seed. Este valor é do tipo inteiro, e é preciso convertê-lo usando int(input())).\n",
    "# A segunda linha contém informações para gerar a primeira matriz, e contém quatro parâmetros: a linha, a coluna, o menor valor aleatório (incluso) e o maior valor aleatório (incluso).\n",
    "import random\n",
    "\n",
    "def criaMatriz(m: int, n: int, minimo: int, maximo: int)->list():\n",
    "    matriz = list()\n",
    "    for i in range(m):\n",
    "        linha = list()\n",
    "        for j in range(n):\n",
    "            linha.append(random.randint(minimo, maximo))       \n",
    "        matriz.append(linha)\n",
    "    return matriz\n",
    "    \n",
    "def multiplicaMatrizes()->list():\n",
    "    valorRandomSeed = int(input())\n",
    "    random.seed(valorRandomSeed) \n",
    "    m = input()\n",
    "    m = m.split()\n",
    "    m1 = criaMatriz(int(m[0]), int(m[1]), int(m[2]), int(m[3]))\n",
    "    n = input()\n",
    "    n = n.split()\n",
    "    m2 = criaMatriz(int(n[0]), int(n[1]), int(n[2]), int(n[3]))\n",
    "    if(len(m1[0]) == len(m2)):\n",
    "        matriz = list()\n",
    "        for i in range(len(m1)):\n",
    "            linha = list()\n",
    "            for j in range(len(m2[0])):\n",
    "                linha.append(0)\n",
    "            matriz.append(linha)         \n",
    "        for i in range(len(m1)):\n",
    "            for j in range(len(m2[0])):\n",
    "                for k in range(len(m2)):\n",
    "                    matriz[i][j] += m1[i][k] * m2[k][j]    \n",
    "        for i in range(len(matriz)):\n",
    "            print(matriz[i])\n",
    "    else:\n",
    "        print(\"Matrizes incompatíveis\")\n",
    "    \n",
    "multiplicaMatrizes()\n"
   ]
  },
  {
   "cell_type": "code",
   "execution_count": null,
   "id": "ebce636c",
   "metadata": {},
   "outputs": [],
   "source": []
  },
  {
   "cell_type": "code",
   "execution_count": null,
   "id": "674fe8e0",
   "metadata": {},
   "outputs": [],
   "source": []
  }
 ],
 "metadata": {
  "kernelspec": {
   "display_name": "Python 3 (ipykernel)",
   "language": "python",
   "name": "python3"
  },
  "language_info": {
   "codemirror_mode": {
    "name": "ipython",
    "version": 3
   },
   "file_extension": ".py",
   "mimetype": "text/x-python",
   "name": "python",
   "nbconvert_exporter": "python",
   "pygments_lexer": "ipython3",
   "version": "3.11.3"
  }
 },
 "nbformat": 4,
 "nbformat_minor": 5
}
