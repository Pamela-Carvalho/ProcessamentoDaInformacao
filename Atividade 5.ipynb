{
 "cells": [
  {
   "cell_type": "code",
   "execution_count": null,
   "id": "8278a83e",
   "metadata": {},
   "outputs": [],
   "source": [
    "# Faça um programa que recebe três valores inteiros.\n",
    "# Faça um laço principal que vai de um até o primeiro número fornecido (inclusive).\n",
    "# Faça um laço secudário dentro do principal que vai do segundo núemero fornecido até 1 (inclusive), com contagem decrescente.\n",
    "# Para cada combinação dos laços acima, some o primeiro número com o segundo número:\n",
    "# Se for número primo, não faça nada (ignore a iteração atual).\n",
    "# Senão, imprima o par de valores atuais da iteração.\n",
    "# O terceiro valor recebido serve para limitar a quantidade de linha de saída, ou seja, a quantidade de pares impressos não pode exceder o terceiro valor.\n",
    "# Caso todos os pares forem processados e não atingir o limite, imprimir como última linha a quantidade de linhas restantes.\n",
    "num1 = int(input())\n",
    "num2 = int(input())\n",
    "num3 = int(input())\n",
    "cont1 = 1\n",
    "\n",
    "def primo(num: int)->bool:\n",
    "    cont = 0\n",
    "\n",
    "    for i in range(2, num):\n",
    "        if(num % i == 0):\n",
    "            cont += 1\n",
    "            \n",
    "    if(cont > 0):\n",
    "        return False\n",
    "    else:\n",
    "        return True        \n",
    "\n",
    "while cont1 <= num1:\n",
    "    cont2 = num2\n",
    "    soma = 0;\n",
    "    \n",
    "    while cont2 >= 1:\n",
    "        soma = cont1 + cont2\n",
    "    \n",
    "        if(primo(soma) == False and num3 > 0):\n",
    "            print(f\"{cont1} {cont2}\")\n",
    "            num3 -= 1\n",
    "        cont2 -= 1\n",
    "        \n",
    "    cont1 += 1\n",
    "print(num3)\n"
   ]
  }
 ],
 "metadata": {
  "kernelspec": {
   "display_name": "Python 3 (ipykernel)",
   "language": "python",
   "name": "python3"
  },
  "language_info": {
   "codemirror_mode": {
    "name": "ipython",
    "version": 3
   },
   "file_extension": ".py",
   "mimetype": "text/x-python",
   "name": "python",
   "nbconvert_exporter": "python",
   "pygments_lexer": "ipython3",
   "version": "3.11.3"
  }
 },
 "nbformat": 4,
 "nbformat_minor": 5
}
