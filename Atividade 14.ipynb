{
 "cells": [
  {
   "cell_type": "code",
   "execution_count": null,
   "id": "ad94779f",
   "metadata": {},
   "outputs": [],
   "source": [
    "# Faça um programa que busca uma matriz dentro de uma outra matriz maior e retorna uma lista com todas as ocorrências.\n",
    "# Entrada:\n",
    "# A primeira linha é um par de números inteiros que representa o tamanho em quantidade de linhas e colunas da matriz que será realizada a busca (maior)\n",
    "# As linhas subsequentes (quantidade de linhas definida no item acima) contém os valores desta matriz.\n",
    "# Após a leitura da primeira matriz, o mesmo processo se repete para definir a segunda matriz (menor) que será utilizada como padrão de busca na matriz anterior, ou seja, uma linha com um par de inteiros contendo a quantidade de linhas e colunas seguido por linhas que representam os valores da respectiva matriz.\n",
    "def criaMatriz(tam: str)->list():\n",
    "    tam = tam.split()\n",
    "    m = int(tam[0])\n",
    "    n = int(tam[1])\n",
    "    matriz = list()\n",
    "    for i in range(m):\n",
    "        linha = input()\n",
    "        linha = linha.split()\n",
    "        for j in range(len(linha)):\n",
    "            linha[j] = int(linha[j])  \n",
    "        matriz.append(linha)\n",
    "    return matriz\n",
    "\n",
    "def procuraMatriz(m1: list(), m2: list())->list():\n",
    "    m = len(m2)\n",
    "    n = len(m2[0])\n",
    "    lista = list()\n",
    "    for i in range(m):\n",
    "        for j in range(n):\n",
    "            lista.append(m2[i][j])\n",
    "    k = -1\n",
    "    indice = list()\n",
    "    posicao = []\n",
    "    linha_m1, coluna_m1, linha_m2, coluna_m2 = 0, 0, 0, 0\n",
    "    for i in range(len(m1)):\n",
    "        for j in range(len(m1[0])):\n",
    "            if(i+len(m2) <= len(m1) and j+len(m2[0]) <= len(m1[0])):\n",
    "                if(m1[i][j] == m2[linha_m2][coluna_m2]):\n",
    "                    posicao = [i, j]\n",
    "                    aux_linha = 0\n",
    "                    for k in range(len(m2)):\n",
    "                        aux_coluna = 0\n",
    "                        for l in range(len(m2[0])):\n",
    "                            if(m1[i+aux_linha][j+aux_coluna] != m2[k][l]):\n",
    "                                posicao = []\n",
    "                            aux_coluna += 1\n",
    "                        aux_linha += 1\n",
    "                    if(posicao != []):\n",
    "                        indice.append(posicao)                    \n",
    "    return indice               \n",
    "    \n",
    "tam = input()\n",
    "matriz1 = criaMatriz(tam)\n",
    "tam = input()\n",
    "matriz2 = criaMatriz(tam)\n",
    "indice = procuraMatriz(matriz1, matriz2)\n",
    "print(indice)\n"
   ]
  }
 ],
 "metadata": {
  "kernelspec": {
   "display_name": "Python 3 (ipykernel)",
   "language": "python",
   "name": "python3"
  },
  "language_info": {
   "codemirror_mode": {
    "name": "ipython",
    "version": 3
   },
   "file_extension": ".py",
   "mimetype": "text/x-python",
   "name": "python",
   "nbconvert_exporter": "python",
   "pygments_lexer": "ipython3",
   "version": "3.11.3"
  }
 },
 "nbformat": 4,
 "nbformat_minor": 5
}
