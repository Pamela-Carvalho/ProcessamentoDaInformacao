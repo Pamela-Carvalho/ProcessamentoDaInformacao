{
 "cells": [
  {
   "cell_type": "code",
   "execution_count": null,
   "id": "280571c1",
   "metadata": {},
   "outputs": [],
   "source": [
    "# Faça um programa que lê um arquivo PGM tipo P2 e retorne um novo arquivo PGM tipo P2 com a metade da resolução.\n",
    "# Entrada:\n",
    "# A primeira linha é o tipo do PGM. No caso, sempre será 'P2', ou seja, tipo texto.\n",
    "# A segunda linha contém dois inteiros: a quantidade de colunas e a quantidade de linhas da imagem.\n",
    "# A terceira linha contém o valor máximo que um pixel pode ter, ou seja, cada pixel pode ter um valor entre 0 e o valor máximo definido (inclusive).\n",
    "# A quarta linha em diante contém uma matriz com as intensidades de cada pixel.\n",
    "\n",
    "def reduzPGM():\n",
    "    tipo = input()\n",
    "    print(tipo)\n",
    "    tam = input()\n",
    "    tam = tam.split()\n",
    "    m = int(tam[1])\n",
    "    n = int(tam[0])\n",
    "    print(int(n/2), \" \", int(m/2))\n",
    "    pixel = int(input())\n",
    "    print(pixel*4)\n",
    "    imagem = list()\n",
    "    for i in range(m):\n",
    "        linha = input()\n",
    "        linha = linha.split()\n",
    "        for j in range(len(linha)):\n",
    "            linha[j] = int(linha[j])\n",
    "        imagem.append(linha)   \n",
    "    cont_linha = 0\n",
    "    nova_imagem = list()\n",
    "    linha = list()\n",
    "    for i in range(int(n/2)):\n",
    "        linha.append(0)\n",
    "    while cont_linha < m:\n",
    "        j = 0\n",
    "        cont_coluna = 0\n",
    "        while cont_coluna < n:\n",
    "            linha[j] = imagem[cont_linha][cont_coluna] + imagem[cont_linha][cont_coluna+1]\n",
    "            linha[j] += imagem[cont_linha+1][cont_coluna] + imagem[cont_linha+1][cont_coluna+1]\n",
    "            cont_coluna += 2\n",
    "            j += 1\n",
    "        cont_linha += 2     \n",
    "        resultado = \"\"\n",
    "        for i in range(len(linha)):\n",
    "            resultado += str(linha[i])\n",
    "            \n",
    "            if(i < len(linha)):\n",
    "                resultado += \" \"\n",
    "               \n",
    "        print(resultado)\n",
    "\n",
    "reduzPGM()\n"
   ]
  }
 ],
 "metadata": {
  "kernelspec": {
   "display_name": "Python 3 (ipykernel)",
   "language": "python",
   "name": "python3"
  },
  "language_info": {
   "codemirror_mode": {
    "name": "ipython",
    "version": 3
   },
   "file_extension": ".py",
   "mimetype": "text/x-python",
   "name": "python",
   "nbconvert_exporter": "python",
   "pygments_lexer": "ipython3",
   "version": "3.11.3"
  }
 },
 "nbformat": 4,
 "nbformat_minor": 5
}
