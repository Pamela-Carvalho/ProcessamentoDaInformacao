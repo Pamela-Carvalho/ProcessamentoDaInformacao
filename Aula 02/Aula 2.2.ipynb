{
 "cells": [
  {
   "cell_type": "code",
   "execution_count": 16,
   "id": "1236e684-c7f1-4665-99c6-9abd3661c4bb",
   "metadata": {},
   "outputs": [
    {
     "name": "stdin",
     "output_type": "stream",
     "text": [
      "Informe o primeiro número: 12\n",
      "Informe o segundo número: 2\n"
     ]
    },
    {
     "name": "stdout",
     "output_type": "stream",
     "text": [
      "O maior número é o 12.0\n"
     ]
    }
   ],
   "source": [
    "### EXERCÍCIO 1: Crie um método que calcula o maior valor entre 2 números reais\n",
    "def maior2(a: float, b: float)->float:\n",
    "    if a > b:\n",
    "        return a\n",
    "    else:\n",
    "        return b\n",
    "\n",
    "a = float(input(\"Informe o primeiro número:\"))\n",
    "b = float(input(\"Informe o segundo número:\"))\n",
    "\n",
    "print(f\"O maior número é o {maior2(a, b)}\")"
   ]
  },
  {
   "cell_type": "code",
   "execution_count": 21,
   "id": "8331300b-7d90-42a0-9858-be34a588083b",
   "metadata": {},
   "outputs": [
    {
     "name": "stdin",
     "output_type": "stream",
     "text": [
      "Informe o primeiro número: 5\n",
      "Informe o segundo número: 12\n",
      "Informe o terceiro número: 3\n"
     ]
    },
    {
     "name": "stdout",
     "output_type": "stream",
     "text": [
      "O maior número é o 12.0\n"
     ]
    }
   ],
   "source": [
    "### EXERCÍCIO 2: Crie um método que calcula o maior valor entre 3 números reais que utiliza a função anterior\n",
    "def maior3(a: float, b: float, c: float)->float:\n",
    "    aux = maior2(a, b)\n",
    "    aux = maior2(aux, c)\n",
    "\n",
    "    return aux\n",
    "\n",
    "    #if aux > c:\n",
    "    #    return aux\n",
    "    #else:\n",
    "    #    return c\n",
    "\n",
    "a = float(input(\"Informe o primeiro número:\"))\n",
    "b = float(input(\"Informe o segundo número:\"))\n",
    "c = float(input(\"Informe o terceiro número:\"))\n",
    "\n",
    "print(f\"O maior número é o {maior3(a, b, c)}\")"
   ]
  },
  {
   "cell_type": "code",
   "execution_count": 22,
   "id": "f9a7f0bf-a711-4ac9-99c1-8c7eacaf4b8a",
   "metadata": {},
   "outputs": [],
   "source": [
    "### EXERCÍCIO 3: O que faz a função abaixo:\n",
    "def f1(a: float, b: float, c:float, d:float) -> float:\n",
    "    m1=a\n",
    "    m2=c\n",
    "    if m1>b:\n",
    "        m1 = b\n",
    "    if m2>d:\n",
    "        m2 = d\n",
    "    if m1>m2:\n",
    "        return m2\n",
    "    else:\n",
    "        return m1\n",
    "\n",
    "#print(f1(2, 4, 3, 1))\n",
    "\n",
    "# a função retorna o menor número dentre os quatro parâmetros"
   ]
  }
 ],
 "metadata": {
  "kernelspec": {
   "display_name": "Python 3 (ipykernel)",
   "language": "python",
   "name": "python3"
  },
  "language_info": {
   "codemirror_mode": {
    "name": "ipython",
    "version": 3
   },
   "file_extension": ".py",
   "mimetype": "text/x-python",
   "name": "python",
   "nbconvert_exporter": "python",
   "pygments_lexer": "ipython3",
   "version": "3.11.5"
  }
 },
 "nbformat": 4,
 "nbformat_minor": 5
}
