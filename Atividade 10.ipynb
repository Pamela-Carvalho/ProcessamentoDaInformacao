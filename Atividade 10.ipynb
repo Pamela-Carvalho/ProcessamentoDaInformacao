{
 "cells": [
  {
   "cell_type": "code",
   "execution_count": 1,
   "id": "8f030579",
   "metadata": {},
   "outputs": [
    {
     "name": "stdout",
     "output_type": "stream",
     "text": [
      "start\n",
      "end\n",
      "Time bubblesort 9.474752426147461\n"
     ]
    }
   ],
   "source": [
    "import random\n",
    "# Ordenação de listas\n",
    "\n",
    "def gerarLista(tamanho: int) -> [int]:\n",
    "    lista = []\n",
    "    for i in range(tamanho):\n",
    "        lista.append(i+1)\n",
    "    random.shuffle(lista)\n",
    "    return lista\n",
    "\n",
    "def isSorted(lista):\n",
    "    for i in range(1, len(lista)):\n",
    "        if lista[i] < lista[i-1]:\n",
    "            return False\n",
    "            \n",
    "    return True\n",
    "\n",
    "def bogoSort(lista):\n",
    "    while not isSorted(lista):\n",
    "        random.shuffle(lista)\n",
    "\n",
    "    return lista\n",
    "\n",
    "# bubble sort\n",
    "def ordenar(lista):\n",
    "    n = len(lista)\n",
    "\n",
    "    for k in range(n):\n",
    "        for i in range(n-1-k):\n",
    "            if(lista[i] > lista[i+1]):\n",
    "                lista[i], lista[i+1] = lista[i+1], lista[i]\n",
    "\n",
    "    return lista\n",
    "\n",
    "# calcula tempo de ordenação\n",
    "import time\n",
    "lista = gerarLista(15000)\n",
    "start = time.time()\n",
    "print(\"start\")\n",
    "listaBubble = ordenar(lista)\n",
    "end = time.time()\n",
    "print(\"end\")\n",
    "print(f\"Time bubblesort {end - start}\")\n"
   ]
  },
  {
   "cell_type": "code",
   "execution_count": null,
   "id": "9a91ec9f",
   "metadata": {},
   "outputs": [],
   "source": []
  }
 ],
 "metadata": {
  "kernelspec": {
   "display_name": "Python 3 (ipykernel)",
   "language": "python",
   "name": "python3"
  },
  "language_info": {
   "codemirror_mode": {
    "name": "ipython",
    "version": 3
   },
   "file_extension": ".py",
   "mimetype": "text/x-python",
   "name": "python",
   "nbconvert_exporter": "python",
   "pygments_lexer": "ipython3",
   "version": "3.11.3"
  }
 },
 "nbformat": 4,
 "nbformat_minor": 5
}
